{
 "cells": [
  {
   "cell_type": "markdown",
   "id": "c196cfad-b141-4701-a053-f1aed7266aef",
   "metadata": {},
   "source": [
    "# 1.Import library"
   ]
  },
  {
   "cell_type": "code",
   "execution_count": 1,
   "id": "024ce398-347c-4228-a69c-98463ae7585d",
   "metadata": {},
   "outputs": [],
   "source": [
    "import pandas as pd\n",
    "import numpy as np\n",
    "import os\n",
    "import matplotlib.pyplot as plt\n",
    "import seaborn as sns\n",
    "import scipy"
   ]
  },
  {
   "cell_type": "code",
   "execution_count": 3,
   "id": "2b22c676-9341-45c7-b558-8a7c002aeabb",
   "metadata": {},
   "outputs": [],
   "source": [
    "# Creat the path\n",
    "path = r'/Users/nhungphamthi/Documents/data analytis/Achievement 4 Project'"
   ]
  },
  {
   "cell_type": "code",
   "execution_count": 5,
   "id": "3721c134-5fc6-4723-b987-2edab464a50d",
   "metadata": {},
   "outputs": [],
   "source": [
    "customers = pd.read_csv(os.path.join(path, '02 Data', 'Original Data', 'customers.csv'))"
   ]
  },
  {
   "cell_type": "code",
   "execution_count": 7,
   "id": "3df60da5-041d-4ea1-b5db-d08eaaff6132",
   "metadata": {},
   "outputs": [
    {
     "name": "stdout",
     "output_type": "stream",
     "text": [
      "<class 'pandas.core.frame.DataFrame'>\n",
      "RangeIndex: 206209 entries, 0 to 206208\n",
      "Data columns (total 10 columns):\n",
      " #   Column        Non-Null Count   Dtype \n",
      "---  ------        --------------   ----- \n",
      " 0   user_id       206209 non-null  int64 \n",
      " 1   First Name    194950 non-null  object\n",
      " 2   Surnam        206209 non-null  object\n",
      " 3   Gender        206209 non-null  object\n",
      " 4   STATE         206209 non-null  object\n",
      " 5   Age           206209 non-null  int64 \n",
      " 6   date_joined   206209 non-null  object\n",
      " 7   n_dependants  206209 non-null  int64 \n",
      " 8   fam_status    206209 non-null  object\n",
      " 9   income        206209 non-null  int64 \n",
      "dtypes: int64(4), object(6)\n",
      "memory usage: 15.7+ MB\n"
     ]
    }
   ],
   "source": [
    "customers.info()"
   ]
  },
  {
   "cell_type": "markdown",
   "id": "4b9d2d34-99b9-4cf8-b581-4a6f77adcb63",
   "metadata": {},
   "source": [
    "# 4. Change name of columns\n",
    "Based on information above, I think the name of columns should be changed, but each column has its a given value for analysis, so I dont drop any column. "
   ]
  },
  {
   "cell_type": "code",
   "execution_count": 11,
   "id": "c2e929fb-ccc3-4c58-9b7f-351a5def08ac",
   "metadata": {},
   "outputs": [],
   "source": [
    "customers.rename(columns = {'First Name' : 'first_name','Surnam' : 'surname', 'Gender' : 'gender', 'Age' : 'age', 'n_dependants' : 'number_dependant', 'STATE' : 'state', 'fam_status' : 'marital_status'}, inplace = True)"
   ]
  },
  {
   "cell_type": "code",
   "execution_count": 13,
   "id": "f08f76b8-5759-4286-889a-2e6917bd86ae",
   "metadata": {},
   "outputs": [
    {
     "name": "stdout",
     "output_type": "stream",
     "text": [
      "<class 'pandas.core.frame.DataFrame'>\n",
      "RangeIndex: 206209 entries, 0 to 206208\n",
      "Data columns (total 10 columns):\n",
      " #   Column            Non-Null Count   Dtype \n",
      "---  ------            --------------   ----- \n",
      " 0   user_id           206209 non-null  int64 \n",
      " 1   first_name        194950 non-null  object\n",
      " 2   surname           206209 non-null  object\n",
      " 3   gender            206209 non-null  object\n",
      " 4   state             206209 non-null  object\n",
      " 5   age               206209 non-null  int64 \n",
      " 6   date_joined       206209 non-null  object\n",
      " 7   number_dependant  206209 non-null  int64 \n",
      " 8   marital_status    206209 non-null  object\n",
      " 9   income            206209 non-null  int64 \n",
      "dtypes: int64(4), object(6)\n",
      "memory usage: 15.7+ MB\n"
     ]
    }
   ],
   "source": [
    "customers.info()"
   ]
  },
  {
   "cell_type": "markdown",
   "id": "9a5f6267-742b-481c-ac5b-f4f600369e6b",
   "metadata": {},
   "source": [
    "# 5. Complete the fundamental data quality and consistency checks"
   ]
  },
  {
   "cell_type": "code",
   "execution_count": 15,
   "id": "2b812685-7582-49b0-a086-b69f85659de9",
   "metadata": {},
   "outputs": [
    {
     "name": "stdout",
     "output_type": "stream",
     "text": [
      "first_name\n"
     ]
    }
   ],
   "source": [
    "# Checking for mixed data-types in each column\n",
    "for col in customers.columns.tolist():\n",
    "  weird = (customers[[col]].map(type) != customers[[col]].iloc[0].apply(type)).any(axis = 1)\n",
    "  if len (customers[weird]) > 0:\n",
    "    print (col)"
   ]
  },
  {
   "cell_type": "code",
   "execution_count": 17,
   "id": "5b714fdf-7b88-4162-9b05-e725b894e81a",
   "metadata": {},
   "outputs": [],
   "source": [
    "# The output revealed that the 'first_name' column has mixed data-types that need to be addressed\n",
    "customers['first_name'] = customers['first_name'].astype('str')"
   ]
  },
  {
   "cell_type": "code",
   "execution_count": 19,
   "id": "e9adcff6-4852-479f-9ca5-b6de0805204b",
   "metadata": {},
   "outputs": [],
   "source": [
    "# The 'user_id' column, while not containing mixed data-types, is still improperly listed as an integer\n",
    "customers['user_id'] = customers['user_id'].astype('str')"
   ]
  },
  {
   "cell_type": "code",
   "execution_count": 21,
   "id": "58084425-3496-448d-b3eb-e69a69fbab2c",
   "metadata": {},
   "outputs": [
    {
     "name": "stdout",
     "output_type": "stream",
     "text": [
      "<class 'pandas.core.frame.DataFrame'>\n",
      "RangeIndex: 206209 entries, 0 to 206208\n",
      "Data columns (total 10 columns):\n",
      " #   Column            Non-Null Count   Dtype \n",
      "---  ------            --------------   ----- \n",
      " 0   user_id           206209 non-null  object\n",
      " 1   first_name        206209 non-null  object\n",
      " 2   surname           206209 non-null  object\n",
      " 3   gender            206209 non-null  object\n",
      " 4   state             206209 non-null  object\n",
      " 5   age               206209 non-null  int64 \n",
      " 6   date_joined       206209 non-null  object\n",
      " 7   number_dependant  206209 non-null  int64 \n",
      " 8   marital_status    206209 non-null  object\n",
      " 9   income            206209 non-null  int64 \n",
      "dtypes: int64(3), object(7)\n",
      "memory usage: 15.7+ MB\n"
     ]
    }
   ],
   "source": [
    "customers.info()"
   ]
  },
  {
   "cell_type": "code",
   "execution_count": 23,
   "id": "64879f4f-4343-4924-8838-b1c403f2cf22",
   "metadata": {},
   "outputs": [],
   "source": [
    "# resize data\n",
    "customers['age'] = customers['age'].astype('int32')\n",
    "customers['number_independant'] = customers['number_dependant'].astype('int32')\n",
    "customers['income'] = customers['income'].astype('int32')"
   ]
  },
  {
   "cell_type": "code",
   "execution_count": 25,
   "id": "36b5f604-ee48-4df4-a104-691f2d1c4f51",
   "metadata": {},
   "outputs": [
    {
     "data": {
      "text/plain": [
       "user_id               0\n",
       "first_name            0\n",
       "surname               0\n",
       "gender                0\n",
       "state                 0\n",
       "age                   0\n",
       "date_joined           0\n",
       "number_dependant      0\n",
       "marital_status        0\n",
       "income                0\n",
       "number_independant    0\n",
       "dtype: int64"
      ]
     },
     "execution_count": 25,
     "metadata": {},
     "output_type": "execute_result"
    }
   ],
   "source": [
    "# Check for missing data\n",
    "customers.isnull().sum()"
   ]
  },
  {
   "cell_type": "code",
   "execution_count": 27,
   "id": "5a32bcfa-22f6-45e6-bac4-19bd24d71790",
   "metadata": {},
   "outputs": [],
   "source": [
    "for col in customers.columns.tolist():\n",
    "  weird = (customers[[col]].map(type) != customers[[col]].iloc[0].apply(type)).any(axis = 1)\n",
    "  if len (customers[weird]) > 0:\n",
    "    print (col)"
   ]
  },
  {
   "cell_type": "code",
   "execution_count": 29,
   "id": "6dbbe5c1-a43b-49c8-8cb0-51c249309ee8",
   "metadata": {},
   "outputs": [],
   "source": [
    "# Check for full-duplicates\n",
    "customers_dups = customers[customers.duplicated()]"
   ]
  },
  {
   "cell_type": "code",
   "execution_count": 31,
   "id": "e0d1bcad-9894-4c6b-b737-e3a8dd2c39cb",
   "metadata": {},
   "outputs": [
    {
     "data": {
      "text/html": [
       "<div>\n",
       "<style scoped>\n",
       "    .dataframe tbody tr th:only-of-type {\n",
       "        vertical-align: middle;\n",
       "    }\n",
       "\n",
       "    .dataframe tbody tr th {\n",
       "        vertical-align: top;\n",
       "    }\n",
       "\n",
       "    .dataframe thead th {\n",
       "        text-align: right;\n",
       "    }\n",
       "</style>\n",
       "<table border=\"1\" class=\"dataframe\">\n",
       "  <thead>\n",
       "    <tr style=\"text-align: right;\">\n",
       "      <th></th>\n",
       "      <th>user_id</th>\n",
       "      <th>first_name</th>\n",
       "      <th>surname</th>\n",
       "      <th>gender</th>\n",
       "      <th>state</th>\n",
       "      <th>age</th>\n",
       "      <th>date_joined</th>\n",
       "      <th>number_dependant</th>\n",
       "      <th>marital_status</th>\n",
       "      <th>income</th>\n",
       "      <th>number_independant</th>\n",
       "    </tr>\n",
       "  </thead>\n",
       "  <tbody>\n",
       "  </tbody>\n",
       "</table>\n",
       "</div>"
      ],
      "text/plain": [
       "Empty DataFrame\n",
       "Columns: [user_id, first_name, surname, gender, state, age, date_joined, number_dependant, marital_status, income, number_independant]\n",
       "Index: []"
      ]
     },
     "execution_count": 31,
     "metadata": {},
     "output_type": "execute_result"
    }
   ],
   "source": [
    "customers_dups"
   ]
  },
  {
   "cell_type": "code",
   "execution_count": 33,
   "id": "e6b2a5e5-af5c-4362-852e-a1fdbe75cf89",
   "metadata": {},
   "outputs": [
    {
     "data": {
      "text/html": [
       "<div>\n",
       "<style scoped>\n",
       "    .dataframe tbody tr th:only-of-type {\n",
       "        vertical-align: middle;\n",
       "    }\n",
       "\n",
       "    .dataframe tbody tr th {\n",
       "        vertical-align: top;\n",
       "    }\n",
       "\n",
       "    .dataframe thead th {\n",
       "        text-align: right;\n",
       "    }\n",
       "</style>\n",
       "<table border=\"1\" class=\"dataframe\">\n",
       "  <thead>\n",
       "    <tr style=\"text-align: right;\">\n",
       "      <th></th>\n",
       "      <th>age</th>\n",
       "      <th>number_dependant</th>\n",
       "      <th>income</th>\n",
       "      <th>number_independant</th>\n",
       "    </tr>\n",
       "  </thead>\n",
       "  <tbody>\n",
       "    <tr>\n",
       "      <th>count</th>\n",
       "      <td>206209.000000</td>\n",
       "      <td>206209.000000</td>\n",
       "      <td>206209.000000</td>\n",
       "      <td>206209.000000</td>\n",
       "    </tr>\n",
       "    <tr>\n",
       "      <th>mean</th>\n",
       "      <td>49.501646</td>\n",
       "      <td>1.499823</td>\n",
       "      <td>94632.852548</td>\n",
       "      <td>1.499823</td>\n",
       "    </tr>\n",
       "    <tr>\n",
       "      <th>std</th>\n",
       "      <td>18.480962</td>\n",
       "      <td>1.118433</td>\n",
       "      <td>42473.786988</td>\n",
       "      <td>1.118433</td>\n",
       "    </tr>\n",
       "    <tr>\n",
       "      <th>min</th>\n",
       "      <td>18.000000</td>\n",
       "      <td>0.000000</td>\n",
       "      <td>25903.000000</td>\n",
       "      <td>0.000000</td>\n",
       "    </tr>\n",
       "    <tr>\n",
       "      <th>25%</th>\n",
       "      <td>33.000000</td>\n",
       "      <td>0.000000</td>\n",
       "      <td>59874.000000</td>\n",
       "      <td>0.000000</td>\n",
       "    </tr>\n",
       "    <tr>\n",
       "      <th>50%</th>\n",
       "      <td>49.000000</td>\n",
       "      <td>1.000000</td>\n",
       "      <td>93547.000000</td>\n",
       "      <td>1.000000</td>\n",
       "    </tr>\n",
       "    <tr>\n",
       "      <th>75%</th>\n",
       "      <td>66.000000</td>\n",
       "      <td>3.000000</td>\n",
       "      <td>124244.000000</td>\n",
       "      <td>3.000000</td>\n",
       "    </tr>\n",
       "    <tr>\n",
       "      <th>max</th>\n",
       "      <td>81.000000</td>\n",
       "      <td>3.000000</td>\n",
       "      <td>593901.000000</td>\n",
       "      <td>3.000000</td>\n",
       "    </tr>\n",
       "  </tbody>\n",
       "</table>\n",
       "</div>"
      ],
      "text/plain": [
       "                 age  number_dependant         income  number_independant\n",
       "count  206209.000000     206209.000000  206209.000000       206209.000000\n",
       "mean       49.501646          1.499823   94632.852548            1.499823\n",
       "std        18.480962          1.118433   42473.786988            1.118433\n",
       "min        18.000000          0.000000   25903.000000            0.000000\n",
       "25%        33.000000          0.000000   59874.000000            0.000000\n",
       "50%        49.000000          1.000000   93547.000000            1.000000\n",
       "75%        66.000000          3.000000  124244.000000            3.000000\n",
       "max        81.000000          3.000000  593901.000000            3.000000"
      ]
     },
     "execution_count": 33,
     "metadata": {},
     "output_type": "execute_result"
    }
   ],
   "source": [
    "# Perform a descriptive statistic check to ensure everything looks normal\n",
    "customers.describe()"
   ]
  },
  {
   "cell_type": "code",
   "execution_count": 35,
   "id": "2680331e-8b1d-4d9a-b58a-6a95f480a93b",
   "metadata": {},
   "outputs": [
    {
     "name": "stdout",
     "output_type": "stream",
     "text": [
      "<class 'pandas.core.frame.DataFrame'>\n",
      "RangeIndex: 206209 entries, 0 to 206208\n",
      "Data columns (total 11 columns):\n",
      " #   Column              Non-Null Count   Dtype \n",
      "---  ------              --------------   ----- \n",
      " 0   user_id             206209 non-null  object\n",
      " 1   first_name          206209 non-null  object\n",
      " 2   surname             206209 non-null  object\n",
      " 3   gender              206209 non-null  object\n",
      " 4   state               206209 non-null  object\n",
      " 5   age                 206209 non-null  int32 \n",
      " 6   date_joined         206209 non-null  object\n",
      " 7   number_dependant    206209 non-null  int64 \n",
      " 8   marital_status      206209 non-null  object\n",
      " 9   income              206209 non-null  int32 \n",
      " 10  number_independant  206209 non-null  int32 \n",
      "dtypes: int32(3), int64(1), object(7)\n",
      "memory usage: 14.9+ MB\n"
     ]
    }
   ],
   "source": [
    "customers.info()"
   ]
  },
  {
   "cell_type": "markdown",
   "id": "6a06ec52-a3de-4295-a163-afb404ad27c6",
   "metadata": {},
   "source": [
    "# 6. Combine your customer data with the rest of your prepared Instacart data"
   ]
  },
  {
   "cell_type": "code",
   "execution_count": 37,
   "id": "b64236c6-95cd-4418-b338-2029f9256925",
   "metadata": {},
   "outputs": [],
   "source": [
    "# Check for full-duplicates\n",
    "customers_dups = customers[customers.duplicated()]"
   ]
  },
  {
   "cell_type": "code",
   "execution_count": 39,
   "id": "cfc64bff-a32b-495e-add1-316546ce5d3b",
   "metadata": {},
   "outputs": [],
   "source": [
    "# Import the rest of the prepared Instacart data\n",
    "orders_products = pd.read_pickle(os.path.join(path, '02 Data', 'Prepared Data','ordes_products_merged_Ex4.8.pkl'))"
   ]
  },
  {
   "cell_type": "code",
   "execution_count": 41,
   "id": "f92b436d-0f75-4acd-9443-6d46aa797d52",
   "metadata": {},
   "outputs": [
    {
     "name": "stdout",
     "output_type": "stream",
     "text": [
      "<class 'pandas.core.frame.DataFrame'>\n",
      "RangeIndex: 32404859 entries, 0 to 32404858\n",
      "Data columns (total 24 columns):\n",
      " #   Column                      Dtype  \n",
      "---  ------                      -----  \n",
      " 0   order_id                    int32  \n",
      " 1   user_id                     int32  \n",
      " 2   order_number                int8   \n",
      " 3   orders_day_of_the_week      int8   \n",
      " 4   order_hour_of_day           int8   \n",
      " 5   days_since_prior_order      float32\n",
      " 6   new_customer                bool   \n",
      " 7   product_id                  int32  \n",
      " 8   add_to_cart_order           int32  \n",
      " 9   reordered                   int8   \n",
      " 10  product_name                object \n",
      " 11  aisle_id                    int32  \n",
      " 12  department_id               int32  \n",
      " 13  prices                      float32\n",
      " 14  price_range_loc             object \n",
      " 15  busiest_day                 object \n",
      " 16  busiest_days                object \n",
      " 17  busiest_period_of_day       object \n",
      " 18  max_order                   int8   \n",
      " 19  loyalty_flag                object \n",
      " 20  avg_product_price           float32\n",
      " 21  spending_flag               object \n",
      " 22  median_days_between_orders  float32\n",
      " 23  order_frequency_flag        object \n",
      "dtypes: bool(1), float32(4), int32(6), int8(5), object(8)\n",
      "memory usage: 3.3+ GB\n"
     ]
    }
   ],
   "source": [
    "# check infor\n",
    "orders_products.info()"
   ]
  },
  {
   "cell_type": "code",
   "execution_count": 47,
   "id": "f9ea1e08-2e24-4a6f-bc2e-4d89a05e8234",
   "metadata": {},
   "outputs": [],
   "source": [
    "# both dataframes have same column \"user_id\", but the datatype of this column are not the same, so I change the datatype\n",
    "orders_products['user_id'] = orders_products['user_id'].astype('str')"
   ]
  },
  {
   "cell_type": "code",
   "execution_count": 49,
   "id": "7899d1b3-9dc1-4ce9-8e32-a09a3825773e",
   "metadata": {},
   "outputs": [
    {
     "name": "stdout",
     "output_type": "stream",
     "text": [
      "<class 'pandas.core.frame.DataFrame'>\n",
      "RangeIndex: 32404859 entries, 0 to 32404858\n",
      "Data columns (total 24 columns):\n",
      " #   Column                      Dtype  \n",
      "---  ------                      -----  \n",
      " 0   order_id                    int32  \n",
      " 1   user_id                     object \n",
      " 2   order_number                int8   \n",
      " 3   orders_day_of_the_week      int8   \n",
      " 4   order_hour_of_day           int8   \n",
      " 5   days_since_prior_order      float32\n",
      " 6   new_customer                bool   \n",
      " 7   product_id                  int32  \n",
      " 8   add_to_cart_order           int32  \n",
      " 9   reordered                   int8   \n",
      " 10  product_name                object \n",
      " 11  aisle_id                    int32  \n",
      " 12  department_id               int32  \n",
      " 13  prices                      float32\n",
      " 14  price_range_loc             object \n",
      " 15  busiest_day                 object \n",
      " 16  busiest_days                object \n",
      " 17  busiest_period_of_day       object \n",
      " 18  max_order                   int8   \n",
      " 19  loyalty_flag                object \n",
      " 20  avg_product_price           float32\n",
      " 21  spending_flag               object \n",
      " 22  median_days_between_orders  float32\n",
      " 23  order_frequency_flag        object \n",
      "dtypes: bool(1), float32(4), int32(5), int8(5), object(9)\n",
      "memory usage: 3.4+ GB\n"
     ]
    }
   ],
   "source": [
    "orders_products.info()"
   ]
  },
  {
   "cell_type": "code",
   "execution_count": 51,
   "id": "2ba221e8-7440-478c-b13b-1d00098cd249",
   "metadata": {},
   "outputs": [],
   "source": [
    "orders_products_customers = orders_products.merge(customers, on = 'user_id', indicator = True)"
   ]
  },
  {
   "cell_type": "code",
   "execution_count": 54,
   "id": "468fa84b-b529-4f69-a692-cffebdb35e8e",
   "metadata": {},
   "outputs": [
    {
     "data": {
      "text/plain": [
       "(32404859, 35)"
      ]
     },
     "execution_count": 54,
     "metadata": {},
     "output_type": "execute_result"
    }
   ],
   "source": [
    "orders_products_customers.shape"
   ]
  },
  {
   "cell_type": "code",
   "execution_count": 56,
   "id": "c67e161b-b2b4-4d44-858d-a3135fcc943a",
   "metadata": {},
   "outputs": [
    {
     "data": {
      "text/html": [
       "<div>\n",
       "<style scoped>\n",
       "    .dataframe tbody tr th:only-of-type {\n",
       "        vertical-align: middle;\n",
       "    }\n",
       "\n",
       "    .dataframe tbody tr th {\n",
       "        vertical-align: top;\n",
       "    }\n",
       "\n",
       "    .dataframe thead th {\n",
       "        text-align: right;\n",
       "    }\n",
       "</style>\n",
       "<table border=\"1\" class=\"dataframe\">\n",
       "  <thead>\n",
       "    <tr style=\"text-align: right;\">\n",
       "      <th></th>\n",
       "      <th>order_id</th>\n",
       "      <th>user_id</th>\n",
       "      <th>order_number</th>\n",
       "      <th>orders_day_of_the_week</th>\n",
       "      <th>order_hour_of_day</th>\n",
       "      <th>days_since_prior_order</th>\n",
       "      <th>new_customer</th>\n",
       "      <th>product_id</th>\n",
       "      <th>add_to_cart_order</th>\n",
       "      <th>reordered</th>\n",
       "      <th>...</th>\n",
       "      <th>surname</th>\n",
       "      <th>gender</th>\n",
       "      <th>state</th>\n",
       "      <th>age</th>\n",
       "      <th>date_joined</th>\n",
       "      <th>number_dependant</th>\n",
       "      <th>marital_status</th>\n",
       "      <th>income</th>\n",
       "      <th>number_independant</th>\n",
       "      <th>_merge</th>\n",
       "    </tr>\n",
       "  </thead>\n",
       "  <tbody>\n",
       "    <tr>\n",
       "      <th>0</th>\n",
       "      <td>2539329</td>\n",
       "      <td>1</td>\n",
       "      <td>1</td>\n",
       "      <td>2</td>\n",
       "      <td>8</td>\n",
       "      <td>NaN</td>\n",
       "      <td>True</td>\n",
       "      <td>196</td>\n",
       "      <td>1</td>\n",
       "      <td>0</td>\n",
       "      <td>...</td>\n",
       "      <td>Nguyen</td>\n",
       "      <td>Female</td>\n",
       "      <td>Alabama</td>\n",
       "      <td>31</td>\n",
       "      <td>2/17/2019</td>\n",
       "      <td>3</td>\n",
       "      <td>married</td>\n",
       "      <td>40423</td>\n",
       "      <td>3</td>\n",
       "      <td>both</td>\n",
       "    </tr>\n",
       "    <tr>\n",
       "      <th>1</th>\n",
       "      <td>2539329</td>\n",
       "      <td>1</td>\n",
       "      <td>1</td>\n",
       "      <td>2</td>\n",
       "      <td>8</td>\n",
       "      <td>NaN</td>\n",
       "      <td>True</td>\n",
       "      <td>14084</td>\n",
       "      <td>2</td>\n",
       "      <td>0</td>\n",
       "      <td>...</td>\n",
       "      <td>Nguyen</td>\n",
       "      <td>Female</td>\n",
       "      <td>Alabama</td>\n",
       "      <td>31</td>\n",
       "      <td>2/17/2019</td>\n",
       "      <td>3</td>\n",
       "      <td>married</td>\n",
       "      <td>40423</td>\n",
       "      <td>3</td>\n",
       "      <td>both</td>\n",
       "    </tr>\n",
       "    <tr>\n",
       "      <th>2</th>\n",
       "      <td>2539329</td>\n",
       "      <td>1</td>\n",
       "      <td>1</td>\n",
       "      <td>2</td>\n",
       "      <td>8</td>\n",
       "      <td>NaN</td>\n",
       "      <td>True</td>\n",
       "      <td>12427</td>\n",
       "      <td>3</td>\n",
       "      <td>0</td>\n",
       "      <td>...</td>\n",
       "      <td>Nguyen</td>\n",
       "      <td>Female</td>\n",
       "      <td>Alabama</td>\n",
       "      <td>31</td>\n",
       "      <td>2/17/2019</td>\n",
       "      <td>3</td>\n",
       "      <td>married</td>\n",
       "      <td>40423</td>\n",
       "      <td>3</td>\n",
       "      <td>both</td>\n",
       "    </tr>\n",
       "    <tr>\n",
       "      <th>3</th>\n",
       "      <td>2539329</td>\n",
       "      <td>1</td>\n",
       "      <td>1</td>\n",
       "      <td>2</td>\n",
       "      <td>8</td>\n",
       "      <td>NaN</td>\n",
       "      <td>True</td>\n",
       "      <td>26088</td>\n",
       "      <td>4</td>\n",
       "      <td>0</td>\n",
       "      <td>...</td>\n",
       "      <td>Nguyen</td>\n",
       "      <td>Female</td>\n",
       "      <td>Alabama</td>\n",
       "      <td>31</td>\n",
       "      <td>2/17/2019</td>\n",
       "      <td>3</td>\n",
       "      <td>married</td>\n",
       "      <td>40423</td>\n",
       "      <td>3</td>\n",
       "      <td>both</td>\n",
       "    </tr>\n",
       "    <tr>\n",
       "      <th>4</th>\n",
       "      <td>2539329</td>\n",
       "      <td>1</td>\n",
       "      <td>1</td>\n",
       "      <td>2</td>\n",
       "      <td>8</td>\n",
       "      <td>NaN</td>\n",
       "      <td>True</td>\n",
       "      <td>26405</td>\n",
       "      <td>5</td>\n",
       "      <td>0</td>\n",
       "      <td>...</td>\n",
       "      <td>Nguyen</td>\n",
       "      <td>Female</td>\n",
       "      <td>Alabama</td>\n",
       "      <td>31</td>\n",
       "      <td>2/17/2019</td>\n",
       "      <td>3</td>\n",
       "      <td>married</td>\n",
       "      <td>40423</td>\n",
       "      <td>3</td>\n",
       "      <td>both</td>\n",
       "    </tr>\n",
       "  </tbody>\n",
       "</table>\n",
       "<p>5 rows × 35 columns</p>\n",
       "</div>"
      ],
      "text/plain": [
       "   order_id user_id  order_number  orders_day_of_the_week  order_hour_of_day  \\\n",
       "0   2539329       1             1                       2                  8   \n",
       "1   2539329       1             1                       2                  8   \n",
       "2   2539329       1             1                       2                  8   \n",
       "3   2539329       1             1                       2                  8   \n",
       "4   2539329       1             1                       2                  8   \n",
       "\n",
       "   days_since_prior_order  new_customer  product_id  add_to_cart_order  \\\n",
       "0                     NaN          True         196                  1   \n",
       "1                     NaN          True       14084                  2   \n",
       "2                     NaN          True       12427                  3   \n",
       "3                     NaN          True       26088                  4   \n",
       "4                     NaN          True       26405                  5   \n",
       "\n",
       "   reordered  ... surname  gender    state  age date_joined number_dependant  \\\n",
       "0          0  ...  Nguyen  Female  Alabama   31   2/17/2019                3   \n",
       "1          0  ...  Nguyen  Female  Alabama   31   2/17/2019                3   \n",
       "2          0  ...  Nguyen  Female  Alabama   31   2/17/2019                3   \n",
       "3          0  ...  Nguyen  Female  Alabama   31   2/17/2019                3   \n",
       "4          0  ...  Nguyen  Female  Alabama   31   2/17/2019                3   \n",
       "\n",
       "  marital_status income  number_independant _merge  \n",
       "0        married  40423                   3   both  \n",
       "1        married  40423                   3   both  \n",
       "2        married  40423                   3   both  \n",
       "3        married  40423                   3   both  \n",
       "4        married  40423                   3   both  \n",
       "\n",
       "[5 rows x 35 columns]"
      ]
     },
     "execution_count": 56,
     "metadata": {},
     "output_type": "execute_result"
    }
   ],
   "source": [
    "orders_products_customers.head()"
   ]
  },
  {
   "cell_type": "code",
   "execution_count": 58,
   "id": "a1dd811a-d781-4f66-bedc-6f00bea3ce85",
   "metadata": {},
   "outputs": [],
   "source": [
    "orders_products_customers = orders_products_customers.drop (['_merge'], axis = 1)"
   ]
  },
  {
   "cell_type": "code",
   "execution_count": 60,
   "id": "a451711c-e183-4cc2-ad53-b6b93054ca80",
   "metadata": {},
   "outputs": [
    {
     "name": "stdout",
     "output_type": "stream",
     "text": [
      "<class 'pandas.core.frame.DataFrame'>\n",
      "RangeIndex: 32404859 entries, 0 to 32404858\n",
      "Data columns (total 34 columns):\n",
      " #   Column                      Dtype  \n",
      "---  ------                      -----  \n",
      " 0   order_id                    int32  \n",
      " 1   user_id                     object \n",
      " 2   order_number                int8   \n",
      " 3   orders_day_of_the_week      int8   \n",
      " 4   order_hour_of_day           int8   \n",
      " 5   days_since_prior_order      float32\n",
      " 6   new_customer                bool   \n",
      " 7   product_id                  int32  \n",
      " 8   add_to_cart_order           int32  \n",
      " 9   reordered                   int8   \n",
      " 10  product_name                object \n",
      " 11  aisle_id                    int32  \n",
      " 12  department_id               int32  \n",
      " 13  prices                      float32\n",
      " 14  price_range_loc             object \n",
      " 15  busiest_day                 object \n",
      " 16  busiest_days                object \n",
      " 17  busiest_period_of_day       object \n",
      " 18  max_order                   int8   \n",
      " 19  loyalty_flag                object \n",
      " 20  avg_product_price           float32\n",
      " 21  spending_flag               object \n",
      " 22  median_days_between_orders  float32\n",
      " 23  order_frequency_flag        object \n",
      " 24  first_name                  object \n",
      " 25  surname                     object \n",
      " 26  gender                      object \n",
      " 27  state                       object \n",
      " 28  age                         int32  \n",
      " 29  date_joined                 object \n",
      " 30  number_dependant            int64  \n",
      " 31  marital_status              object \n",
      " 32  income                      int32  \n",
      " 33  number_independant          int32  \n",
      "dtypes: bool(1), float32(4), int32(8), int64(1), int8(5), object(15)\n",
      "memory usage: 5.5+ GB\n"
     ]
    }
   ],
   "source": [
    "orders_products_customers.info()"
   ]
  },
  {
   "cell_type": "code",
   "execution_count": 62,
   "id": "b8dc8583-55f6-47a6-bfb7-7cdac4da8a74",
   "metadata": {},
   "outputs": [],
   "source": [
    "orders_products_customers['order_id'] = orders_products_customers['order_id'].astype('int8')\n",
    "orders_products_customers['product_id'] = orders_products_customers['product_id'].astype('int8')\n",
    "orders_products_customers['add_to_cart_order'] = orders_products_customers['add_to_cart_order'].astype('int8')\n",
    "orders_products_customers['aisle_id'] = orders_products_customers['aisle_id'].astype('int8')\n",
    "orders_products_customers['department_id'] = orders_products_customers['department_id'].astype('int8')\n",
    "orders_products_customers['age'] = orders_products_customers['age'].astype('int8')\n",
    "orders_products_customers['number_independant'] = orders_products_customers['number_independant'].astype('int8')\n",
    "orders_products_customers['income'] = orders_products_customers['income'].astype('int8')"
   ]
  },
  {
   "cell_type": "code",
   "execution_count": 64,
   "id": "f6d4855e-03fb-4dba-b44d-4a10fb485993",
   "metadata": {},
   "outputs": [
    {
     "name": "stdout",
     "output_type": "stream",
     "text": [
      "<class 'pandas.core.frame.DataFrame'>\n",
      "RangeIndex: 32404859 entries, 0 to 32404858\n",
      "Data columns (total 34 columns):\n",
      " #   Column                      Dtype  \n",
      "---  ------                      -----  \n",
      " 0   order_id                    int8   \n",
      " 1   user_id                     object \n",
      " 2   order_number                int8   \n",
      " 3   orders_day_of_the_week      int8   \n",
      " 4   order_hour_of_day           int8   \n",
      " 5   days_since_prior_order      float32\n",
      " 6   new_customer                bool   \n",
      " 7   product_id                  int8   \n",
      " 8   add_to_cart_order           int8   \n",
      " 9   reordered                   int8   \n",
      " 10  product_name                object \n",
      " 11  aisle_id                    int8   \n",
      " 12  department_id               int8   \n",
      " 13  prices                      float32\n",
      " 14  price_range_loc             object \n",
      " 15  busiest_day                 object \n",
      " 16  busiest_days                object \n",
      " 17  busiest_period_of_day       object \n",
      " 18  max_order                   int8   \n",
      " 19  loyalty_flag                object \n",
      " 20  avg_product_price           float32\n",
      " 21  spending_flag               object \n",
      " 22  median_days_between_orders  float32\n",
      " 23  order_frequency_flag        object \n",
      " 24  first_name                  object \n",
      " 25  surname                     object \n",
      " 26  gender                      object \n",
      " 27  state                       object \n",
      " 28  age                         int8   \n",
      " 29  date_joined                 object \n",
      " 30  number_dependant            int64  \n",
      " 31  marital_status              object \n",
      " 32  income                      int8   \n",
      " 33  number_independant          int8   \n",
      "dtypes: bool(1), float32(4), int64(1), int8(13), object(15)\n",
      "memory usage: 4.8+ GB\n"
     ]
    }
   ],
   "source": [
    "orders_products_customers.info()"
   ]
  },
  {
   "cell_type": "code",
   "execution_count": 66,
   "id": "86d6dea6-d984-4bd0-a813-797d2cffa28c",
   "metadata": {},
   "outputs": [],
   "source": [
    "orders_products_customers.to_pickle(os.path.join(path, '02 Data','Prepared Data', 'orders_products_customers.pkl'))"
   ]
  },
  {
   "cell_type": "code",
   "execution_count": null,
   "id": "a23eb6cd-5148-4397-8716-cd76b9dd2f38",
   "metadata": {},
   "outputs": [],
   "source": []
  }
 ],
 "metadata": {
  "kernelspec": {
   "display_name": "Python [conda env:base] *",
   "language": "python",
   "name": "conda-base-py"
  },
  "language_info": {
   "codemirror_mode": {
    "name": "ipython",
    "version": 3
   },
   "file_extension": ".py",
   "mimetype": "text/x-python",
   "name": "python",
   "nbconvert_exporter": "python",
   "pygments_lexer": "ipython3",
   "version": "3.12.7"
  }
 },
 "nbformat": 4,
 "nbformat_minor": 5
}
